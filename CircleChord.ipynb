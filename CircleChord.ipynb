{
 "cells": [
  {
   "cell_type": "markdown",
   "metadata": {},
   "source": [
    "# Bertrand paradox\n",
    "\n",
    "### First method\n",
    "\n",
    "Choose to random points in a (unit) circle and calculate the length of that chord."
   ]
  },
  {
   "cell_type": "code",
   "execution_count": 3,
   "metadata": {},
   "outputs": [],
   "source": [
    "import numpy as np\n",
    "import matplotlib.pyplot as plt"
   ]
  },
  {
   "cell_type": "code",
   "execution_count": 20,
   "metadata": {},
   "outputs": [],
   "source": [
    "def length(x1, y1, x2, y2):\n",
    "\treturn np.sqrt((x2-x1)**2 + (y2-y1)**2)"
   ]
  },
  {
   "cell_type": "code",
   "execution_count": 5,
   "metadata": {},
   "outputs": [],
   "source": [
    "def chord1(r=1):\n",
    "\ttheta = np.random.uniform(0, 2*np.pi)\n",
    "\treturn r*np.cos(theta), r*np.sin(theta)"
   ]
  },
  {
   "cell_type": "code",
   "execution_count": 6,
   "metadata": {},
   "outputs": [],
   "source": [
    "def check_len(l1, r=1):\n",
    "\t# Length of the inscribed triangle\n",
    "\tl2 = r*np.sqrt(3) \n",
    "\tif l1 >= l2:\n",
    "\t\treturn 1 \n",
    "\telse:\n",
    "\t\treturn 0 "
   ]
  },
  {
   "cell_type": "code",
   "execution_count": 7,
   "metadata": {},
   "outputs": [],
   "source": [
    "def mid_point(x1, y1, x2, y2):\n",
    "\treturn [(x1+x2)/2, (y1+y2)/2]"
   ]
  },
  {
   "cell_type": "code",
   "execution_count": 9,
   "metadata": {},
   "outputs": [
    {
     "name": "stdout",
     "output_type": "stream",
     "text": [
      "0.333675\n"
     ]
    }
   ],
   "source": [
    "def M1_simple(n=int(1e5)):\n",
    "\tavg = 0\n",
    "\tfor i in range(n):\n",
    "\t\tx1, y1 = chord1()\n",
    "\t\tx2, y2 = chord1()\n",
    "\n",
    "\t\tavg += check_len(length(x1, y1, x2, y2))\n",
    "\n",
    "\tavg /= n\n",
    "\tprint(avg) \t# aprox 1/3"
   ]
  },
  {
   "cell_type": "code",
   "execution_count": 28,
   "metadata": {},
   "outputs": [],
   "source": [
    "def method1(n, sort=True, r=1):\n",
    "\tif sort:\n",
    "\t\t# Chords shorter than the side of the inscribed triangle\n",
    "\t\tx1, y1 = [], []\n",
    "\t\tx2, y2 = [], []\n",
    "\n",
    "\t\t# Chords longer than the side of the inscribed triangle\n",
    "\t\ta1, b1 = [], []\n",
    "\t\ta2, b2 = [], []\n",
    "\n",
    "\t\t# Midpoints of the chords\n",
    "\t\tmids = []\n",
    "\n",
    "\t\tfor i in range(n):\n",
    "\t\t\ttemp_x1, temp_y1 = chord1()\n",
    "\t\t\ttemp_x2, temp_y2 = chord1()\n",
    "\n",
    "\t\t\tmids.append(mid_point(temp_x1, temp_y1, temp_x2, temp_y2))\n",
    "\t\t\t\n",
    "\t\t\tif check_len(length(temp_x1, temp_y1, temp_x2, temp_y2)):\n",
    "\t\t\t\ta1.append(temp_x1)\n",
    "\t\t\t\tb1.append(temp_y1)\n",
    "\t\t\t\ta2.append(temp_x2)\n",
    "\t\t\t\tb2.append(temp_y2)\n",
    "\t\t\telse:\n",
    "\t\t\t\tx1.append(temp_x1)\n",
    "\t\t\t\ty1.append(temp_y1)\n",
    "\t\t\t\tx2.append(temp_x2)\n",
    "\t\t\t\ty2.append(temp_y2)\n",
    "\n",
    "\t\t# Append x and y values intercalated\n",
    "\t\tx_short = []\n",
    "\t\ty_short = []\n",
    "\t\tfor i in range(len(x1)):\n",
    "\t\t\tx_short.append(x1[i])\n",
    "\t\t\tx_short.append(x2[i])\n",
    "\t\t\ty_short.append(y1[i])\n",
    "\t\t\ty_short.append(y2[i])\t\n",
    "\n",
    "\t\tx_long = []\n",
    "\t\ty_long = []\n",
    "\t\tfor i in range(len(a1)):\n",
    "\t\t\tx_long.append(a1[i])\n",
    "\t\t\tx_long.append(a2[i])\n",
    "\t\t\ty_long.append(b1[i])\n",
    "\t\t\ty_long.append(b2[i])\n",
    "\n",
    "\t\treturn x_short, y_short, x_long, y_long, mids\n",
    "\t\n",
    "\telse:\n",
    "\t\t# Midpoints of the chords\n",
    "\t\tmids = []\n",
    "\n",
    "\t\t# Chord points in circle perimeter\n",
    "\t\tx1, y1 = [], []\n",
    "\t\tx2, y2 = [], []\n",
    "\n",
    "\t\tfor i in range(n):\n",
    "\t\t\ttemp_x1, temp_y1 = chord1()\n",
    "\t\t\ttemp_x2, temp_y2 = chord1()\n",
    "\n",
    "\t\t\tmids.append(mid_point(temp_x1, temp_y1, temp_x2, temp_y2))\n",
    "\t\t\n",
    "\t\t\tx1.append(temp_x1)\n",
    "\t\t\ty1.append(temp_y1)\n",
    "\t\t\tx2.append(temp_x2)\n",
    "\t\t\ty2.append(temp_y2)\n",
    "\n",
    "\t\treturn x1, y1, x2, y2, mids\n"
   ]
  },
  {
   "cell_type": "code",
   "execution_count": 54,
   "metadata": {},
   "outputs": [],
   "source": [
    "def plot_chords(x_short, y_short, x_long, y_long, mids, r=1, save=False, name='MX_Chords.png', dpi=1000):\n",
    "\t# PLotting the chords\n",
    "\ttheta = np.linspace(0, 2*np.pi, 100)\n",
    "\tx = r*np.cos(theta)\n",
    "\ty = r*np.sin(theta)\n",
    "\n",
    "\tplt.plot(x_long, y_long, color='blue', linewidth=0.005)\n",
    "\tplt.plot(x_short, y_short, color='red', linewidth=0.005)\n",
    "\tplt.plot(x, y, 'k')\n",
    "\tif save:\n",
    "\t\tplt.savefig('M1_chords.png', dpi=1000)\n",
    "\n",
    "# plot_chords(*method1(10000))"
   ]
  },
  {
   "cell_type": "code",
   "execution_count": 41,
   "metadata": {},
   "outputs": [],
   "source": [
    "x_short, y_short, x_long, y_long, mids = method1(1000000, sort=False)"
   ]
  },
  {
   "cell_type": "code",
   "execution_count": 49,
   "metadata": {},
   "outputs": [],
   "source": [
    "def plot_midpoints(mids, save=False, name='MX_midpoints.png', dpi=1000):\n",
    "\tplt.scatter([i[0] for i in mids], [i[1] for i in mids], s=0.1)\n",
    "\tif save:\n",
    "\t\tplt.savefig(name, dpi=dpi)"
   ]
  },
  {
   "cell_type": "code",
   "execution_count": 53,
   "metadata": {},
   "outputs": [
    {
     "data": {
      "image/png": "[encoded data removed]",
      "text/plain": [
       "<Figure size 640x480 with 1 Axes>"
      ]
     },
     "metadata": {},
     "output_type": "display_data"
    }
   ],
   "source": [
    "def plot_mp_distribution(mids, save=False, name='MX_Mids_Distribution.png', dpi=1000):\n",
    "\tmodule = [np.sqrt(i[0]**2 + i[1]**2) for i in mids]\n",
    "\tplt.hist(module, bins='sqrt', density=True, color='green', alpha=0.75)\n",
    "\tplt.xlabel('Radius')\n",
    "\tif save:\n",
    "\t\tplt.savefig(name, dpi=dpi)\n",
    "\n",
    "plot_mp_distribution(mids, save=True, name='Results/M1_Mids_Distribution.png')"
   ]
  }
 ],
 "metadata": {
  "kernelspec": {
   "display_name": "Python 3.11.0 64-bit",
   "language": "python",
   "name": "python3"
  },
  "language_info": {
   "codemirror_mode": {
    "name": "ipython",
    "version": 3
   },
   "file_extension": ".py",
   "mimetype": "text/x-python",
   "name": "python",
   "nbconvert_exporter": "python",
   "pygments_lexer": "ipython3",
   "version": "3.11.0"
  },
  "orig_nbformat": 4,
  "vscode": {
   "interpreter": {
    "hash": "8bb183d6f65149bde25a8207ad2fb4989b2757aac3d3ec63796cdeb74924c51a"
   }
  }
 },
 "nbformat": 4,
 "nbformat_minor": 2
}
